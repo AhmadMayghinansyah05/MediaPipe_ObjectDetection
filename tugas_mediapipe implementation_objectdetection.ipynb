{
  "cells": [
    {
      "cell_type": "markdown",
      "metadata": {},
      "source": [
        "TUGAS MEMBUAT DETEKSI MATA TERBUKA TERTUTUP DAN MULUT TERBUKA"
      ]
    },
    {
      "cell_type": "code",
      "execution_count": 1,
      "metadata": {},
      "outputs": [],
      "source": [
        "import math\n",
        "import logging"
      ]
    },
    {
      "cell_type": "code",
      "execution_count": 3,
      "metadata": {},
      "outputs": [
        {
          "name": "stderr",
          "output_type": "stream",
          "text": [
            "2025-04-21 00:36:58,001 - INFO - Program dihentikan secara paksa oleh pengguna (Ctrl+C).\n",
            "2025-04-21 00:36:58,491 - INFO - Sumber daya webcam, window, dan FaceMesh dibersihkan.\n"
          ]
        }
      ],
      "source": [
        "# Setup logging\n",
        "logging.basicConfig(level=logging.INFO, format='%(asctime)s - %(levelname)s - %(message)s')\n",
        "\n",
        "# Fungsi untuk hitung jarak\n",
        "def distance(p1, p2):\n",
        "    return ((p1.x - p2.x)**2 + (p1.y - p2.y)**2) ** 0.5\n",
        "\n",
        "# Inisialisasi Face Mesh\n",
        "mp_face_mesh = mp.solutions.face_mesh\n",
        "face_mesh = mp_face_mesh.FaceMesh(refine_landmarks=True)\n",
        "\n",
        "# Buka Webcam\n",
        "cap = cv2.VideoCapture(0)\n",
        "\n",
        "if not cap.isOpened():\n",
        "    logging.error(\"Gagal membuka webcam. Pastikan kamera tersedia dan tidak digunakan aplikasi lain.\")\n",
        "    exit()\n",
        "\n",
        "try:\n",
        "    while cap.isOpened():\n",
        "        ret, frame = cap.read()\n",
        "        if not ret:\n",
        "            logging.warning(\"Gagal membaca frame dari webcam.\")\n",
        "            break\n",
        "\n",
        "        # Preprocess\n",
        "        rgb = cv2.cvtColor(frame, cv2.COLOR_BGR2RGB)\n",
        "        results = face_mesh.process(rgb)\n",
        "\n",
        "        labels = []\n",
        "\n",
        "        if results.multi_face_landmarks:\n",
        "            for landmarks in results.multi_face_landmarks:\n",
        "                # Ambil titik-titik untuk mata kiri\n",
        "                left_eye_top = landmarks.landmark[159]\n",
        "                left_eye_bottom = landmarks.landmark[145]\n",
        "                # Ambil titik-titik untuk mata kanan\n",
        "                right_eye_top = landmarks.landmark[386]\n",
        "                right_eye_bottom = landmarks.landmark[374]\n",
        "                # Ambil titik-titik bibir\n",
        "                top_lip = landmarks.landmark[13]\n",
        "                bottom_lip = landmarks.landmark[14]\n",
        "\n",
        "                # Jarak vertikal mata\n",
        "                left_eye_distance = distance(left_eye_top, left_eye_bottom)\n",
        "                right_eye_distance = distance(right_eye_top, right_eye_bottom)\n",
        "                # Jarak vertikal bibir\n",
        "                mouth_open = distance(top_lip, bottom_lip)\n",
        "\n",
        "                # Threshold sederhana (bisa di-tune)\n",
        "                if left_eye_distance < 0.02 and right_eye_distance < 0.02:\n",
        "                    labels.append(\"Mata Tertutup\")\n",
        "                else:\n",
        "                    labels.append(\"Mata Terbuka\")\n",
        "                \n",
        "                if mouth_open > 0.05:\n",
        "                    labels.append(\"Mulut Terbuka\")\n",
        "                else:\n",
        "                    labels.append(\"Mulut Tertutup\")\n",
        "\n",
        "        # Tampilkan label prediksi\n",
        "        label_text = \" | \".join(labels) if labels else \"Tidak Terdeteksi\"\n",
        "        cv2.putText(frame, f'Prediksi: {label_text}', (30, 40), cv2.FONT_HERSHEY_SIMPLEX, 1, (0, 0, 255), 2)\n",
        "\n",
        "        # Tampilkan frame\n",
        "        try:\n",
        "            cv2.imshow(\"Deteksi Ekspresi Real-time\", frame)\n",
        "        except cv2.error as e:\n",
        "            logging.error(f\"Gagal menampilkan window: {e}\")\n",
        "            break\n",
        "\n",
        "        # Tombol keluar\n",
        "        key = cv2.waitKey(1) & 0xFF\n",
        "        if key == ord('q'):\n",
        "            logging.info(\"Program dihentikan oleh pengguna melalui tombol 'q'.\")\n",
        "            break\n",
        "\n",
        "except KeyboardInterrupt:\n",
        "    logging.info(\"Program dihentikan secara paksa oleh pengguna (Ctrl+C).\")\n",
        "except Exception as e:\n",
        "    logging.error(f\"Terjadi kesalahan: {e}\")\n",
        "\n",
        "finally:\n",
        "    # Bersihkan sumber daya\n",
        "    cap.release()\n",
        "    cv2.destroyAllWindows()\n",
        "    face_mesh.close()  # Tutup FaceMesh untuk membebaskan sumber daya\n",
        "    logging.info(\"Sumber daya webcam, window, dan FaceMesh dibersihkan.\")"
      ]
    }
  ],
  "metadata": {
    "colab": {
      "provenance": []
    },
    "kernelspec": {
      "display_name": "Python 3",
      "language": "python",
      "name": "python3"
    },
    "language_info": {
      "codemirror_mode": {
        "name": "ipython",
        "version": 3
      },
      "file_extension": ".py",
      "mimetype": "text/x-python",
      "name": "python",
      "nbconvert_exporter": "python",
      "pygments_lexer": "ipython3",
      "version": "3.12.3"
    },
    "varInspector": {
      "cols": {
        "lenName": 16,
        "lenType": 16,
        "lenVar": 40
      },
      "kernels_config": {
        "python": {
          "delete_cmd_postfix": "",
          "delete_cmd_prefix": "del ",
          "library": "var_list.py",
          "varRefreshCmd": "print(var_dic_list())"
        },
        "r": {
          "delete_cmd_postfix": ") ",
          "delete_cmd_prefix": "rm(",
          "library": "var_list.r",
          "varRefreshCmd": "cat(var_dic_list()) "
        }
      },
      "types_to_exclude": [
        "module",
        "function",
        "builtin_function_or_method",
        "instance",
        "_Feature"
      ],
      "window_display": false
    }
  },
  "nbformat": 4,
  "nbformat_minor": 0
}
